{
 "cells": [
  {
   "cell_type": "markdown",
   "metadata": {},
   "source": [
    "# Final 2: Project Design & Writeup\n",
    "Julian Himes  \n",
    "March 2017"
   ]
  },
  {
   "cell_type": "markdown",
   "metadata": {},
   "source": [
    "### Problem and Hypothesis\n",
    "The modern banking paradigm allows for individuals to borrow money from a central location and pay it back over time in installments. A crucial feature that incentivizes banks or other lenders to loan money in the first place is a differentiated *interest rate* applied to each loan, essentially a \"rental fee\" for the money. This rate is determined by several factors, many of which are traits of the individual borrower that indicate her ability to pay back the loan in a timely manner. Generally, lenders prefer that borrowers pay back their loan on time, according to a pre-arranged payment schedule.\n",
    "\n",
    "This project aims to answer the question, <b>\"Why do some people have trouble paying back their loans on time?\"</b>\n",
    "\n",
    "This is an extremely valuable question to lenders, and is already part of their calculations in determining individual interest rates; individuals who are determined to be highly likely to miss payments or default on a loan are offered higher interest rates. Further, in many cases, a penalty for missing one or more payments will result in an increased interest rate. \n",
    "\n",
    "For this project, this will likely be treated as a classification problem, according to categories that lenders use internally -- a payment is either \"late by 30 days\", \"late by 60 days\", \"late by 90 days\", \"in default\", or \"charged off\". (The difference between the latter two categories varies by lender, but \"charged off\" is the final stage where a bank gives up any expectation that the loan will be repaid.) This could also be treated as a simple binary, where falling into any of these categories would be treated as \"is late\".\n",
    "\n",
    "Based on several financial, demographic, and descriptive characteristics of borrowers, I aim to predict the likelihood of each individual's payments ending up in one of those categories. My initial hypothesis is that *urgency of the loan* will have a strong impact on the likelihood of being late. The thinking behind this is as follows: the more urgent a loan, the less time has been spent planning for it, the more likely the borrower will encounter payments she cannot afford, the more likely those payments will be late or missed entirely. Urgency will be determined from available data about the type of loan requested (some categories appear more \"urgent\" or unexpected than others, e.g. medical expenses), as well as open text descriptions that the borrowers write when asking for approval of the loan.\n",
    "\n",
    "My hope is that this investigation would be valuable to borrowers as well as lenders. To have better understanding of factors that lead other people into poor financial practice could help us manage our own financial lives better."
   ]
  },
  {
   "cell_type": "markdown",
   "metadata": {},
   "source": [
    "### Datasets\n",
    "My dataset includes data from Lending Club, a peer-to-peer lending service where individuals lend other individuals money, facilitated by a central organization. Records are by loan, and include both borrower information (address, income, credit score, etc.) as well as loan information (type, description, amount).\n",
    "\n",
    "A full data dictionary is available on Kaggle:\n",
    "https://www.kaggle.com/wendykan/lending-club-loan-data"
   ]
  },
  {
   "cell_type": "markdown",
   "metadata": {},
   "source": [
    "### Domain knowledge\n",
    "I have experience as a borrower, not through Lending Club, but having taken out both personal loans (from a bank) and student loans (from the federal government). This gives me a sort of behavioral-economic perspective as to motivations of borrowers and potential challenging circumstances.\n",
    "\n",
    "In discussing this project with classmates, one mentioned that he has experience as a lender with Lending Club, and was able to provide some insight on the calculations that are done to assign interest rates to individual borrowers.\n",
    "\n",
    "Some other research in this area:\n",
    "\n",
    "* \"The Key to Avoiding Loan Defaults: Lenders Who Know Borrowers\" (DeYoung, 2002)\n",
    "    * The finding of this study, that a \"personal touch\" makes a big difference in ensuring that a loan is paid off, is likely related to the inspiration for starting Lending Club in the first place, since it allows borrowers and lenders to connect directly.\n",
    "    \n",
    "    \n",
    "* \"Sometimes, Defaulting on a Mortgage Is a Smart Decision (White, *The Atlantic*, 2015)\n",
    "    * This article explores the idea of a \"strategic default\", which it describes as a potentially wise financial decision, when a family is faced with competing debt obligations. This could help add context and nuance to my understanding of defaults for this investigation."
   ]
  },
  {
   "cell_type": "markdown",
   "metadata": {},
   "source": [
    "### Project Concerns\n",
    "When I first encountered this data, I expected that it would contain records for loans *not approved* as well as those approved, allowing me to explore what types of loans are most likely to be approved. Given that the data only includes existing (i.e. approved) loans, there is some amount of selection bias, in that borrowers have already been determined to be creditworthy enough to be offered a loan. Still, within this population, I hope to see enough variability to get a better sense of what types of situations lead to late payments.\n",
    "\n",
    "On the other hand, the population for this project is fairly unique, and might not lend itself to predictions about all borrowers. Many people pursue loans at Lending Club when they have been rejected from other sources, meaning that trends I identify in this group might not hold in the larger world.\n",
    "\n",
    "I am not yet clear exactly what logic delineates \"default\" from \"charged off\" at Lending Club. This is likely proprietary information, but would be very interesting for this project.\n",
    "\n",
    "A clear risk would be overstating the significance of any findings here, and dissuading others (either borrowers or lenders) from pursuing loans based on faulty assumptions."
   ]
  },
  {
   "cell_type": "markdown",
   "metadata": {},
   "source": [
    "### Outcomes\n",
    "I expect to produce a model that will take in borrower data and information about loan requested, and output a category that I predict the loan payments will fall into (e.g. \"on time\", \"30 days late\", \"charged off\", etc.).  Alternatively, the model would take in the same information, and produce a probability of \"will-be-late\" for the payments.\n",
    "\n",
    "The target audience is not necessarily technical, and will likely expect broad qualitative findings, like \"medical loans are more likely to be charged off,\" or \"low-income borrowers are more likely to miss payments\". I'll have to be careful in generalizing findings to make them digestible and interesting, without overstating them.\n",
    "\n",
    "In any case, as mentioned above, the population here is rather unique. If the model fails to produce anything interesting or valuable, it may be worth pursuing similar investigation with loan records from different lenders."
   ]
  }
 ],
 "metadata": {
  "anaconda-cloud": {},
  "kernelspec": {
   "display_name": "Python [conda root]",
   "language": "python",
   "name": "conda-root-py"
  },
  "language_info": {
   "codemirror_mode": {
    "name": "ipython",
    "version": 2
   },
   "file_extension": ".py",
   "mimetype": "text/x-python",
   "name": "python",
   "nbconvert_exporter": "python",
   "pygments_lexer": "ipython2",
   "version": "2.7.12"
  }
 },
 "nbformat": 4,
 "nbformat_minor": 1
}
