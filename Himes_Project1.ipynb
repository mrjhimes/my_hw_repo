{
 "cells": [
  {
   "cell_type": "markdown",
   "metadata": {},
   "source": [
    "# Project 1: Research Design Write-Up\n",
    "\n",
    "Julian Himes  \n",
    "January 24, 2017"
   ]
  },
  {
   "cell_type": "markdown",
   "metadata": {},
   "source": [
    "# Problem Statement:\n",
    "\n",
    "Determine how important GRE performance is for graduate school admissions, using hypothetical student-level data from UCLA. Dataset includes admit status (a binary variable) as well as influencing factors (student GRE score, student GPA, and rank of the applicant's undergraduate school)."
   ]
  },
  {
   "cell_type": "markdown",
   "metadata": {},
   "source": [
    "#### 1. Data Dictionary:\n",
    "Variable | Description | Values | Type\n",
    "---| ---| ---| ---|\n",
    "admit | Applicant's admission status | 0 = not admitted <br> 1 = admitted | discrete\n",
    "gre | Applicant's score on the Graduate Record Examination (GRE) | 200 - 800 | discrete\n",
    "gpa | Grade Point Average | 0.0 - 4.0 | continuous\n",
    "prestige | Rank of applicant's undergraduate school | 1 - 4 | discrete"
   ]
  },
  {
   "cell_type": "markdown",
   "metadata": {},
   "source": [
    "#### 2. What is the outcome variable?\n",
    "    admit"
   ]
  },
  {
   "cell_type": "markdown",
   "metadata": {},
   "source": [
    "#### 3. What are the predictors / covariates?\n",
    "    gre\n",
    "    gpa\n",
    "    prestige"
   ]
  },
  {
   "cell_type": "markdown",
   "metadata": {},
   "source": [
    "#### 4. What is the hypothesis?\n",
    "Controlling for (or entirelGPA and prestige of undergraduate institution, students with higher scores on the GRE are more likely to be admitted to graduate school."
   ]
  },
  {
   "cell_type": "markdown",
   "metadata": {},
   "source": [
    "#### 5. What are the assumptions and risks associated with this dataset?\n",
    "Assumptions: \n",
    "* This data is representative of graduate school admissions in general.\n",
    "* Though hypothetical data, this is generated in such a way that it will contain a measurable relationship between the variables (i.e. not completely random).\n",
    "\n",
    "Risks:\n",
    "* The predictor variables may be closely related to other things not included in the dataset (e.g. student demographics) that actually have a strong effect on graduate admissions. If this were the case we might ascribe too much independent significance to the effect of the variables in our dataset - this would be an example of omitted variable bias.\n",
    "* This is using scores on an outdated version of the GRE (as indicated by its score range) and may not be representative of the current GRE's relationship to graduate admissions.\n",
    "* The outcome variable is binary, so a linear regression model is likely not appropriate."
   ]
  },
  {
   "cell_type": "markdown",
   "metadata": {},
   "source": [
    "### Exploratory Analysis Plan"
   ]
  },
  {
   "cell_type": "markdown",
   "metadata": {},
   "source": [
    "#### 1. What are the goals of the exploratory analysis?\n",
    "* Understand the shape and size of the dataset.\n",
    "* Understand the range of each variable.\n",
    "* Identify any missing values."
   ]
  },
  {
   "cell_type": "markdown",
   "metadata": {},
   "source": [
    "#### 2a. What are the assumptions regarding the distribution of the data?\n",
    "* We would assume this to be normally distributed, given that it is randomly generated but intended to mirror real-world admissions data."
   ]
  },
  {
   "cell_type": "markdown",
   "metadata": {},
   "source": [
    "#### 2b. How will you determine the distribution of your data?\n",
    "We can look at frequency distributions of each of the predictor variables by graphing the variable values on the x-axis and count of each value instance on the y-axis. We could also generate a box-and-whisker plot to see an alternative visualization of each variable's distribution."
   ]
  },
  {
   "cell_type": "markdown",
   "metadata": {},
   "source": [
    "#### 3a. How might outliers affect your analysis?\n",
    "Outliers could affect summary statistics like the mean and range and cause us to make incorrect assumptions regarding the other (non-outlier) data. For instance, a single extremely low score on the GRE could drag down the mean score for the whole dataset, causing us to assume that GRE scores are generally low."
   ]
  },
  {
   "cell_type": "markdown",
   "metadata": {},
   "source": [
    "#### 3b. How will you test for outliers?\n",
    "After calculating the quartiles and interquartile range, check for outliers that fall outside (Q1 - [1.5(IQR)]) and (Q3 + [1.5(IQR)]). Alternatively, we could use standard deviation to check for values that are far from the mean, e.g. more than 2 SD greater or less than the mean."
   ]
  },
  {
   "cell_type": "markdown",
   "metadata": {},
   "source": [
    "#### 4. What is the exploratory analysis plan?\n",
    "* Generate descriptive statistics (mean, median, n, std, quartiles)\n",
    "* Create a box-and-whisker plot for each of the predictor variables to look at distribution\n",
    "* Create frequency distributions for each of the predictor variables for an alternate look at distributions\n",
    "* Use methods in 3b to check for outliers"
   ]
  },
  {
   "cell_type": "markdown",
   "metadata": {},
   "source": [
    "## Bonus Questions:"
   ]
  },
  {
   "cell_type": "markdown",
   "metadata": {},
   "source": [
    "#### 1. Outline the analysis method for predicting the outcome.\n",
    "Construct a simple linear regression with 'gre' as the independent variable, 'admit' as the outcome variable, and 'gpa' and 'prestige' as covariates.\n",
    "\n",
    "    admit = B0 + B1(gre) + B2(gpa) + B3(prestige) + e"
   ]
  },
  {
   "cell_type": "markdown",
   "metadata": {},
   "source": [
    "#### 2. Write an alternative problem statement for the dataset.\n",
    "Performance in undergrad ('gpa') and performance on the graduate exam ('gre') may be so closely related that they should not both be included in a model predicting graduate school admissions. Determine the correlation between 'gre' and 'gpa' and the effect of removing one or the other from the original model."
   ]
  },
  {
   "cell_type": "markdown",
   "metadata": {},
   "source": [
    "#### 3. Articulate the assumptions and risks of the alternative model.\n",
    "Assumptions: \n",
    "* The hypothetical data in this example was constructed in a way such that 'gre' and 'gpa' have a measurable relationship to each other (not just to 'admit').\n",
    "\n",
    "Risks: \n",
    "* With so few predictor variables, removing any of them would push all the explanatory power to the remaining variables."
   ]
  }
 ],
 "metadata": {
  "anaconda-cloud": {},
  "kernelspec": {
   "display_name": "Python [default]",
   "language": "python",
   "name": "python2"
  },
  "language_info": {
   "codemirror_mode": {
    "name": "ipython",
    "version": 2
   },
   "file_extension": ".py",
   "mimetype": "text/x-python",
   "name": "python",
   "nbconvert_exporter": "python",
   "pygments_lexer": "ipython2",
   "version": "2.7.12"
  }
 },
 "nbformat": 4,
 "nbformat_minor": 1
}
