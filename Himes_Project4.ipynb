{
 "cells": [
  {
   "cell_type": "markdown",
   "metadata": {},
   "source": [
    "# Project 4: Writeup & Summary\n",
    "\n",
    "Julian Himes  \n",
    "March 2017"
   ]
  },
  {
   "cell_type": "markdown",
   "metadata": {},
   "source": [
    "### Intro: Write a problem statement/specific aim for this project."
   ]
  },
  {
   "cell_type": "markdown",
   "metadata": {},
   "source": [
    "I set out to determine the impact of several factors on graduate school admissions rates: a student's undergraduate GPA, rank or \"prestige\" of her undergraduate institution, and her performance on the GRE. By constructing a model that considered each of these factors individually I hoped to determine which were more important to graduate schools when considering applicants."
   ]
  },
  {
   "cell_type": "markdown",
   "metadata": {},
   "source": [
    "### Dataset:  Write up a description of your data and any cleaning that was completed."
   ]
  },
  {
   "cell_type": "markdown",
   "metadata": {},
   "source": [
    "The original dataset contains 400 student-level observations. Each record contains the following variables:\n",
    "\n",
    "* 'gpa' (student undergraduate GPA)\n",
    "* 'gre' (student's performance on the GRE, a qualifying examination for graduate schools)\n",
    "* 'prestige' (the comparative rank of a student's undergraduate institution)\n",
    "* 'admit' (whether or not this student was admitted to graduate school)\n",
    "\n",
    "Since 'prestige' was initially coded as a floating point variable, with a trailing 0 after the decimal point, but for my purposes was interpreted as a categorical variable, I recoded it as an integer. This allowed for cleaner visual display, particularly when I created dummy variables from this field.\n",
    "\n",
    "I also dropped records with missing values in any of our explanatory fields ('gre', 'gpa', 'prestige'), a total of 3 records. All remaining 397 records had values for 'admit'."
   ]
  },
  {
   "cell_type": "markdown",
   "metadata": {
    "collapsed": true
   },
   "source": [
    "### Demo: Provide a table that explains the data by admission status.\n"
   ]
  },
  {
   "cell_type": "markdown",
   "metadata": {},
   "source": [
    "Mean and standard deviation or counts by admission status for each variable:\n",
    "\n",
    "| Not Admitted | Admitted\n",
    "---| ---|---\n",
    "GPA | mean 3.35 (std 0.38)  | mean 3.49 (std 0.37)\n",
    "GRE | mean 573.58 (std 116.05) | mean 618.90 (std 108.88)\n",
    "Prestige 1 | 28 records (7.0%) | 33 records (8.3%)\n",
    "Prestige 2 | 95 records (23.8%) | 53 records (13.3%)\n",
    "Prestige 3 |93 records (23.3%) | 28 records (7.0%)\n",
    "Prestige 4 |55 records (13.8%) | 12 records (3.0%)"
   ]
  },
  {
   "cell_type": "markdown",
   "metadata": {},
   "source": [
    "### Methods: Write up the methods used in your analysis."
   ]
  },
  {
   "cell_type": "markdown",
   "metadata": {},
   "source": [
    "Given that the outcome variable ('admit') is binary, I used a logit model to determine the impact of covariates on the likelihood of admission. With some transformation, these results could then be expressed as odds ratios.\n",
    "\n",
    "Having trained the logit model on our original data, I generated a range of linearly spaced possible values for the variables 'gre' and 'gpa', to look at predicted probabilities of admission for a number of different combinations of the input variables.  \n",
    "\n",
    "In particular, this allowed me to see the effects of 'prestige' across the full range of 'gre' and 'gpa' values."
   ]
  },
  {
   "cell_type": "markdown",
   "metadata": {},
   "source": [
    "### Results: Write up your results."
   ]
  },
  {
   "cell_type": "markdown",
   "metadata": {},
   "source": [
    "Intuitively, students with higher GRE and GPA were more likely to be admitted to graduate school, as were students who went to higher-ranked undergraduate colleges.\n",
    "\n",
    "When GRE and GPA are held constant at their maximum possible values, we can see the dramatic difference in likelihood of admission to graduate school based on the rank of a student's undergrad:\n",
    "\n",
    "* With a perfect GRE and GPA, having gone to a rank 1 undergrad, the likelihood of admission to grad school is 73.4%.\n",
    "* With a perfect GRE and GPA, having gone to a rank 2 undergrad, the likelihood of admission to grad school is 58.3%.\n",
    "* With a perfect GRE and GPA, having gone to a rank 3 undergrad, the likelihood of admission to grad school is 42.0%.\n",
    "* With a perfect GRE and GPA, having gone to a rank 4 undergrad, the likelihood of admission to grad school is 36.9%."
   ]
  },
  {
   "cell_type": "markdown",
   "metadata": {},
   "source": [
    "### Visuals: Provide a table or visualization of these results."
   ]
  },
  {
   "cell_type": "markdown",
   "metadata": {},
   "source": [
    "<table>\n",
    "<col width=600>\n",
    "<col width=350>\n",
    "<tr>\n",
    "    <td><img class=\"one\" src='gre_prob.png' height= 75% width= 75%></td>\n",
    "    <td><p>Across different values of 'gre', the separation in predicted probabilities for different undergraduate prestiges can be seen.</p></td>\n",
    "</tr>\n",
    "<tr>\n",
    "    <td><img class=\"two\" src='gpa_prob.png' height= 77% width= 77%></td>\n",
    "    <td><p>Across different values of 'gpa', the separation in predicted probabilities for different undergraduate prestiges can be seen.</p></td>\n",
    "\n",
    "</tr>\n",
    "</table>"
   ]
  },
  {
   "cell_type": "markdown",
   "metadata": {},
   "source": [
    "### Discussion: Write up your discussion and future steps."
   ]
  },
  {
   "cell_type": "markdown",
   "metadata": {},
   "source": [
    "The results of this project are generally in line with common sense: each of the predictor variables has a natural value judgement (e.g. \"higher GPA = better\") so their positive impact on graduate admissions is to be expected. More surprising is the importance of undergraduate rank on this process, and how it can seem to override all other predictor variables; for instance, a student at a low-ranked undergrad, even with a perfect GRE and GPA, is still quite unlikely to get into grad school.\n",
    "\n",
    "For further exploration here, I would like to see more student-level information (academic major, location, demographics, etc.) to test whether the \"rank\" variable is related to any latent effects of other factors influencing graduate admission. I'm also curious about these trends at different types of graduate schools: for instance, do STEM programs value undergraduate GPA more than other types of programs? Finally, I would like to see this type of data across a wide span of time, to investigate whether the relative importance of things like GPA and the GRE have changed over the years."
   ]
  }
 ],
 "metadata": {
  "anaconda-cloud": {},
  "kernelspec": {
   "display_name": "Python [default]",
   "language": "python",
   "name": "python2"
  },
  "language_info": {
   "codemirror_mode": {
    "name": "ipython",
    "version": 2.0
   },
   "file_extension": ".py",
   "mimetype": "text/x-python",
   "name": "python",
   "nbconvert_exporter": "python",
   "pygments_lexer": "ipython2",
   "version": "2.7.12"
  }
 },
 "nbformat": 4,
 "nbformat_minor": 0
}